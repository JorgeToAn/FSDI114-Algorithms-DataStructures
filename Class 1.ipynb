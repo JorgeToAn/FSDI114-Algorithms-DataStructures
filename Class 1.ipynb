{
 "cells": [
  {
   "cell_type": "code",
   "execution_count": 1,
   "id": "a1cc92aa",
   "metadata": {},
   "outputs": [
    {
     "name": "stdout",
     "output_type": "stream",
     "text": [
      "H\n",
      "e\n",
      "l\n",
      "l\n",
      "o\n",
      ",\n",
      " \n",
      "W\n",
      "o\n",
      "r\n",
      "l\n",
      "d\n",
      "!\n"
     ]
    }
   ],
   "source": [
    "for letter in \"Hello, World!\":\n",
    "    print(letter)\n",
    "# Use SHIFT+ENTER to run the code"
   ]
  },
  {
   "cell_type": "markdown",
   "id": "ab6cf1ce",
   "metadata": {},
   "source": [
    "# Problem 1\n",
    "\n",
    "## Given two strings as input, determine if they are anagrams of each other given the following criteria:\n",
    "\n",
    "Two strings are only anagrams of each other if all conditions below are met:\n",
    "\n",
    "1. They must be exactly the same length\n",
    "2. They must use exactly the same characters\n",
    "\n",
    "```\n",
    "Examples:\n",
    "cars and scar\n",
    "heart and earth\n",
    "etc\n",
    "```\n",
    "\n",
    "##### Note: Remember to use SHIFT+ENTER"
   ]
  },
  {
   "cell_type": "code",
   "execution_count": 1,
   "id": "1b2898c0",
   "metadata": {},
   "outputs": [],
   "source": [
    "# define function anagram_check: parameters -> (string1, string2)\n",
    "#    if the length of the strings don't match:\n",
    "#        then return false\n",
    "#    dict_string1 = dict\n",
    "#    dict_string2 = dict\n",
    "#    if the length matches:\n",
    "#        for each index in the range from 0 to the length of the string1:\n",
    "#            if the character at \"index\" exists in the dict_string1:\n",
    "#                dict_string1[index] = dict_string1[index]+1\n",
    "#            else:\n",
    "#                create a new key for the character at \"index\" in dict_string1\n",
    "#            if the character at \"index\" exists in the dict_string2:\n",
    "#                dict_string2[index] = dict_string2[index]+1\n",
    "#            else:\n",
    "#                create a new key for the character at \"index\" in dict_string2\n",
    "#        return dict_string1 == dict_string2"
   ]
  },
  {
   "cell_type": "code",
   "execution_count": 15,
   "id": "1e6c4498",
   "metadata": {},
   "outputs": [],
   "source": [
    "def anagram_check(str1, str2):\n",
    "    # Splits the string into a list word by word\n",
    "    # Then joins it back using the separator, which is empty in this case\n",
    "    # Doing this we receive the string back without whitespace\n",
    "    separator = \"\"    \n",
    "    str1_split = str1.split()\n",
    "    str1 = separator.join(str1_split)\n",
    "    str2_split = str2.split()\n",
    "    str2 = separator.join(str2_split)\n",
    "    \n",
    "    if len(str1) != len(str2):\n",
    "        return False\n",
    "    else:\n",
    "        # Turns the string lower case before looping\n",
    "        str1 = str1.lower()\n",
    "        str2 = str2.lower()\n",
    "        \n",
    "        dict_str1 = {}\n",
    "        dict_str2 = {}\n",
    "        for i in range(len(str1)):\n",
    "            if str1[i] in dict_str1.keys():\n",
    "                dict_str1[str1[i]] += 1\n",
    "            else:\n",
    "                dict_str1[str1[i]] = 1\n",
    "            if str2[i] in dict_str2.keys():\n",
    "                dict_str2[str2[i]] += 1\n",
    "            else:\n",
    "                dict_str2[str2[i]] = 1\n",
    "        return dict_str1 == dict_str2"
   ]
  },
  {
   "cell_type": "code",
   "execution_count": 16,
   "id": "de557126",
   "metadata": {},
   "outputs": [
    {
     "data": {
      "text/plain": [
       "True"
      ]
     },
     "execution_count": 16,
     "metadata": {},
     "output_type": "execute_result"
    }
   ],
   "source": [
    "anagram_check(\"I am Lord Voldemort\", \"Tom Marvolo Riddle\")"
   ]
  },
  {
   "cell_type": "code",
   "execution_count": null,
   "id": "68c90f79",
   "metadata": {},
   "outputs": [],
   "source": []
  }
 ],
 "metadata": {
  "kernelspec": {
   "display_name": "Python 3 (ipykernel)",
   "language": "python",
   "name": "python3"
  },
  "language_info": {
   "codemirror_mode": {
    "name": "ipython",
    "version": 3
   },
   "file_extension": ".py",
   "mimetype": "text/x-python",
   "name": "python",
   "nbconvert_exporter": "python",
   "pygments_lexer": "ipython3",
   "version": "3.11.0rc1"
  }
 },
 "nbformat": 4,
 "nbformat_minor": 5
}
