{
 "cells": [
  {
   "cell_type": "markdown",
   "id": "63196c6e",
   "metadata": {},
   "source": [
    "# Data Structures\n",
    "\n",
    "## Stacks\n",
    "\n",
    "They follow the ordering principle LIFO (Last-In First-Out), you \"push\" items and to take them out you \"pop\". When we push an item into a stack it can only enter from the \"top\", and when we pop an \"item\" out it can only be taken from the \"top\".\n",
    "\n",
    "Stacks have a \"base\" which is where older items end up, meanwhile the \"top\" is where newer items are, the best representation for this can be a pringles can or a stack of plates.\n",
    "\n",
    "We can use stacks to reverse collections.\n",
    "\n",
    "## Queues\n",
    "\n",
    "A queue is an ordered collection of items where the addition of new items (enqueue) happens at one end called the \"rear\", and the removal of items (dequeue) happens at another end called the \"front\".\n",
    "\n",
    "It follows the ordering principle FIFO (First-In First-Out) in which the most recent item has to wait until every other item that was added before it to exit the queue."
   ]
  },
  {
   "cell_type": "code",
   "execution_count": 1,
   "id": "775f5879",
   "metadata": {},
   "outputs": [],
   "source": [
    "class Stack:\n",
    "    def __init__(self):\n",
    "        self.items = []\n",
    "        \n",
    "    def is_empty(self):\n",
    "        return self.items == []\n",
    "    \n",
    "    def push(self, item):\n",
    "        self.items.append(item)\n",
    "        \n",
    "    def pop(self):\n",
    "        return self.items.pop()\n",
    "    \n",
    "    def peek(self):\n",
    "        return self.items[len(self.items)-1]\n",
    "    \n",
    "    def size(self):\n",
    "        return len(self.items)"
   ]
  },
  {
   "cell_type": "markdown",
   "id": "01dfa7e5",
   "metadata": {},
   "source": [
    "# Problem 2\n",
    "\n",
    "### Invert a string using our stack class\n",
    "\n",
    "Using the **stack** class above, create a function called \"reverse_str\" that takes a string as a parameter and returns it in inverted order.\n",
    "\n",
    "```\n",
    "Examples:\n",
    "reverse_str(\"Rafael\") == \"leafaR\"\n",
    "reverse_str(\"cars\") == \"srac\"\n",
    "reverse_str(\"house\") == \"esuoh\"\n",
    "```"
   ]
  },
  {
   "cell_type": "code",
   "execution_count": 2,
   "id": "1e9a7976",
   "metadata": {},
   "outputs": [],
   "source": [
    "# def reverse_str -> parameters(string):\n",
    "#    declare a Stack object\n",
    "#    for each letter in string:\n",
    "#        push the letter into the stack\n",
    "#    \n",
    "#    declare an empty string called \"reversed\"\n",
    "#    for each letter in the stack:\n",
    "#        pop each letter and append it into \"reversed\"\n",
    "#    return the reversed string"
   ]
  },
  {
   "cell_type": "code",
   "execution_count": 7,
   "id": "7508431f",
   "metadata": {},
   "outputs": [
    {
     "data": {
      "text/plain": [
       "'leafaR'"
      ]
     },
     "execution_count": 7,
     "metadata": {},
     "output_type": "execute_result"
    }
   ],
   "source": [
    "def reverse_str(string):\n",
    "    lttrStack = Stack()\n",
    "    for letter in string:\n",
    "        lttrStack.push(letter)\n",
    "    \n",
    "    reversed = \"\"\n",
    "    for letter in range(lttrStack.size()):\n",
    "        reversed += lttrStack.pop()\n",
    "    return reversed\n",
    "\n",
    "reverse_str(\"Rafael\")"
   ]
  },
  {
   "cell_type": "code",
   "execution_count": 8,
   "id": "f37f5d04",
   "metadata": {},
   "outputs": [],
   "source": [
    "class Queue:\n",
    "    def __init__(self):\n",
    "        self.items = []\n",
    "    \n",
    "    # Essential functions\n",
    "    def enqueue(self, item):\n",
    "        self.items.insert(0, item)\n",
    "    \n",
    "    def dequeue(self):\n",
    "        return self.items.pop()\n",
    "    \n",
    "    # Not essential but nice to have\n",
    "    def is_empty(self):\n",
    "        return  self.items == []\n",
    "    \n",
    "    def size(self):\n",
    "        return len(self.items)"
   ]
  },
  {
   "cell_type": "code",
   "execution_count": 3,
   "id": "59c7f1d8",
   "metadata": {},
   "outputs": [],
   "source": [
    "# Implementation of a stack class from scratch\n",
    "\n",
    "class Node:\n",
    "    def __init__(self, data):\n",
    "        self.data = data\n",
    "        self.above = None"
   ]
  },
  {
   "cell_type": "code",
   "execution_count": 13,
   "id": "b0f0ba7a",
   "metadata": {},
   "outputs": [
    {
     "name": "stdout",
     "output_type": "stream",
     "text": [
      "1\n",
      "2\n",
      "3\n"
     ]
    }
   ],
   "source": [
    "x = [1, 2, 3]\n",
    "\n",
    "base = Node(x[0])\n",
    "new_node = Node(x[1])\n",
    "base.above = new_node\n",
    "new_node_one = Node(x[2])\n",
    "new_node.above = new_node_one\n",
    "\n",
    "current = base\n",
    "while current:\n",
    "    print(current.data)\n",
    "    current = current.above"
   ]
  },
  {
   "cell_type": "code",
   "execution_count": 2,
   "id": "48604788",
   "metadata": {},
   "outputs": [],
   "source": [
    "class Stack:\n",
    "    def __init__(self):\n",
    "        self.base = None\n",
    "    \n",
    "    def push(self, item):\n",
    "        # If the stack is empty, create a new Node and set as base\n",
    "        if not self.base:\n",
    "            self.base = Node(item)\n",
    "        # If not empty, traverse from base to top and assign a Node above the top\n",
    "        else:\n",
    "            current = self.base\n",
    "            while current.above:\n",
    "                current = current.above\n",
    "            current.above = Node(item)\n",
    "        \n",
    "    def pop(self):\n",
    "        if self.base:\n",
    "            prev = None\n",
    "            current = self.base\n",
    "            while current.above:\n",
    "                prev = current\n",
    "                current = current.above\n",
    "            if not prev:\n",
    "                self.base = None\n",
    "                return current.data\n",
    "            else:\n",
    "                prev.above = None\n",
    "                return current.data\n",
    "        raise IndexError(\"Pop from empty stack\")\n",
    "        \n",
    "    def is_empty(self):\n",
    "        return self.base == None\n",
    "    \n",
    "    def size(self):\n",
    "        counter = 0\n",
    "        current = self.base\n",
    "        while current:\n",
    "            counter += 1\n",
    "            current = current.above\n",
    "        return counter\n",
    "    \n",
    "    def peek(self):\n",
    "        current = self.base\n",
    "        while current:\n",
    "            current = current.above\n",
    "        if not current:\n",
    "            raise IndexError(\"Peek from empty stack\")\n",
    "        return current.data"
   ]
  },
  {
   "cell_type": "code",
   "execution_count": 3,
   "id": "a564f5bf",
   "metadata": {},
   "outputs": [],
   "source": [
    "def reverse_str(string):\n",
    "    lttrStack = Stack()\n",
    "    for letter in string:\n",
    "        lttrStack.push(letter)\n",
    "    \n",
    "    reversed = \"\"\n",
    "    while not lttrStack.is_empty():\n",
    "        reversed += lttrStack.pop()\n",
    "    return reversed"
   ]
  },
  {
   "cell_type": "code",
   "execution_count": 16,
   "id": "4b547849",
   "metadata": {},
   "outputs": [
    {
     "data": {
      "text/plain": [
       "'egroJ'"
      ]
     },
     "execution_count": 16,
     "metadata": {},
     "output_type": "execute_result"
    }
   ],
   "source": [
    "reverse_str(\"Jorge\")"
   ]
  },
  {
   "cell_type": "markdown",
   "id": "3176dd7f",
   "metadata": {},
   "source": [
    "# Assignment 2 - Queue Class\n",
    "\n",
    "Implement a Queue class from scratch using the Node class that was made, be sure to implement the essential *enqueue* and *dequeue* functions. You can also implement a *size* and *is_empty* functions."
   ]
  },
  {
   "cell_type": "code",
   "execution_count": 5,
   "id": "97ffd67a",
   "metadata": {},
   "outputs": [],
   "source": [
    "# Implementation of a Queue class from scratch using the Node class\n",
    "class Queue:\n",
    "    def __init__(self):\n",
    "        self.rear = None\n",
    "    \n",
    "    def enqueue(self, item):\n",
    "        if not self.rear:\n",
    "            self.rear = Node(item)\n",
    "        else:\n",
    "            new = Node(item)\n",
    "            new.above = self.rear\n",
    "            self.rear = new\n",
    "    \n",
    "    def dequeue(self):\n",
    "        if self.rear:\n",
    "            current = self.rear\n",
    "            prev = None\n",
    "            while current.above:\n",
    "                prev = current\n",
    "                current = current.above\n",
    "            if prev:\n",
    "                prev.above = None\n",
    "                return current.data\n",
    "            else: \n",
    "                self.rear = None\n",
    "                return current.data\n",
    "        else:\n",
    "            raise IndexError(\"Dequeue from empty queue\")\n",
    "    \n",
    "    def size(self):\n",
    "        counter = 0\n",
    "        current = self.rear\n",
    "        while current:\n",
    "            current = current.above\n",
    "            counter += 1\n",
    "        return counter\n",
    "    \n",
    "    def is_empty(self):\n",
    "        return self.rear == None"
   ]
  },
  {
   "cell_type": "code",
   "execution_count": 10,
   "id": "4034ed19",
   "metadata": {},
   "outputs": [
    {
     "name": "stdout",
     "output_type": "stream",
     "text": [
      "6\n"
     ]
    }
   ],
   "source": [
    "# Queue testing\n",
    "q = Queue()\n",
    "q.enqueue(1)\n",
    "q.enqueue(2)\n",
    "q.enqueue(3)\n",
    "\n",
    "out = 0\n",
    "while not q.is_empty():\n",
    "    out += q.dequeue()\n",
    "print(out)"
   ]
  },
  {
   "cell_type": "code",
   "execution_count": null,
   "id": "7ce8ad69",
   "metadata": {},
   "outputs": [],
   "source": []
  }
 ],
 "metadata": {
  "kernelspec": {
   "display_name": "Python 3 (ipykernel)",
   "language": "python",
   "name": "python3"
  },
  "language_info": {
   "codemirror_mode": {
    "name": "ipython",
    "version": 3
   },
   "file_extension": ".py",
   "mimetype": "text/x-python",
   "name": "python",
   "nbconvert_exporter": "python",
   "pygments_lexer": "ipython3",
   "version": "3.11.0rc1"
  }
 },
 "nbformat": 4,
 "nbformat_minor": 5
}
